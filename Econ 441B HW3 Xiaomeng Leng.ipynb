{
 "cells": [
  {
   "cell_type": "markdown",
   "id": "f980314e",
   "metadata": {},
   "source": [
    "## Econ 441B "
   ]
  },
  {
   "cell_type": "markdown",
   "id": "732c1976",
   "metadata": {},
   "source": [
    "### Xiaomeng Leng"
   ]
  },
  {
   "cell_type": "code",
   "execution_count": 2,
   "id": "55621e94",
   "metadata": {},
   "outputs": [],
   "source": [
    "import pandas as pd"
   ]
  },
  {
   "cell_type": "markdown",
   "id": "a055ebb7",
   "metadata": {},
   "source": [
    "# 1.) Clean the Apple Data to get a quarterly series of EPS."
   ]
  },
  {
   "cell_type": "code",
   "execution_count": 3,
   "id": "365b253b",
   "metadata": {},
   "outputs": [],
   "source": [
    "y = pd.read_csv(\"AAPL_quarterly_financials.csv\")"
   ]
  },
  {
   "cell_type": "code",
   "execution_count": 4,
   "id": "8932850f",
   "metadata": {},
   "outputs": [],
   "source": [
    "y.index = y.name"
   ]
  },
  {
   "cell_type": "code",
   "execution_count": 5,
   "id": "449862e7",
   "metadata": {},
   "outputs": [],
   "source": [
    "y = pd.DataFrame(y.loc[\"BasicEPS\", :]).iloc[2:,:]"
   ]
  },
  {
   "cell_type": "code",
   "execution_count": 6,
   "id": "c39e6c1d",
   "metadata": {},
   "outputs": [],
   "source": [
    "y.index = pd.to_datetime(y.index)"
   ]
  },
  {
   "cell_type": "code",
   "execution_count": 7,
   "id": "15452f18",
   "metadata": {},
   "outputs": [],
   "source": [
    "# CHECK IF NAS ARE NO DIVIDEND PERIOD\n",
    "y = y.sort_index().fillna(0.)"
   ]
  },
  {
   "cell_type": "markdown",
   "id": "f660ca3c",
   "metadata": {},
   "source": [
    "# 2.) Come up with 6 search terms you think could nowcast earnings. (Different than the ones I used) Add in 3 terms that that you think will not Nowcast earnings. Pull in the gtrends data"
   ]
  },
  {
   "cell_type": "code",
   "execution_count": 8,
   "id": "101a8370",
   "metadata": {},
   "outputs": [],
   "source": [
    "from pytrends.request import TrendReq"
   ]
  },
  {
   "cell_type": "code",
   "execution_count": 170,
   "id": "715787dd",
   "metadata": {},
   "outputs": [],
   "source": [
    "# Create pytrends object\n",
    "pytrends = TrendReq(hl='en-US', tz=360)\n",
    "\n",
    "# Set up the keywords and the timeframe\n",
    "keywords = ['September', 'Release', 'Apple Watch', 'Apple', 'MacBook Air', 'Airpods', 'Westfield', 'May', 'Ivor']  \n",
    "            # Add your keywords here\n",
    "start_date = '2004-01-01'\n",
    "end_date = '2024-01-01'\n",
    "\n",
    "# Create an empty DataFrame to store the results\n",
    "df = pd.DataFrame()\n",
    "\n",
    "# Iterate through keywords and fetch data\n",
    "for keyword in keywords:\n",
    "    pytrends.build_payload([keyword], cat=0, timeframe=f'{start_date} {end_date}', geo='', gprop='')\n",
    "    interest_over_time_df = pytrends.interest_over_time()\n",
    "    df[keyword] = interest_over_time_df[keyword]"
   ]
  },
  {
   "cell_type": "code",
   "execution_count": 171,
   "id": "22bbb744",
   "metadata": {},
   "outputs": [],
   "source": [
    "df = df.resample(\"Q\").mean()"
   ]
  },
  {
   "cell_type": "code",
   "execution_count": 172,
   "id": "c925f043",
   "metadata": {},
   "outputs": [],
   "source": [
    "# ALIGN DATA\n",
    "temp = pd.concat([y, df],axis = 1).dropna()\n",
    "y = temp[[\"BasicEPS\"]].copy()\n",
    "X = temp.iloc[:,1:].copy()"
   ]
  },
  {
   "cell_type": "markdown",
   "id": "863d55e4",
   "metadata": {},
   "source": [
    "# 3.) Normalize all the X data"
   ]
  },
  {
   "cell_type": "code",
   "execution_count": 117,
   "id": "8325a0f4",
   "metadata": {},
   "outputs": [],
   "source": [
    "from sklearn.preprocessing import StandardScaler"
   ]
  },
  {
   "cell_type": "code",
   "execution_count": 173,
   "id": "bc2504ab",
   "metadata": {},
   "outputs": [],
   "source": [
    "scaler = StandardScaler()"
   ]
  },
  {
   "cell_type": "code",
   "execution_count": 174,
   "id": "fe0eab3b",
   "metadata": {},
   "outputs": [],
   "source": [
    "X_scaled = scaler.fit_transform(X)"
   ]
  },
  {
   "cell_type": "markdown",
   "id": "925f79f5",
   "metadata": {},
   "source": [
    "# 4.) Run a Lasso with lambda of .5. Plot a bar chart."
   ]
  },
  {
   "cell_type": "code",
   "execution_count": 15,
   "id": "d829a004",
   "metadata": {},
   "outputs": [],
   "source": [
    "from sklearn.linear_model import Lasso\n",
    "import matplotlib.pyplot as plt"
   ]
  },
  {
   "cell_type": "code",
   "execution_count": 189,
   "id": "f27a1fee",
   "metadata": {},
   "outputs": [],
   "source": [
    "lasso = Lasso(alpha=0.5)"
   ]
  },
  {
   "cell_type": "code",
   "execution_count": 190,
   "id": "a1729e36",
   "metadata": {},
   "outputs": [],
   "source": [
    "las = lasso.fit(X_scaled, y)"
   ]
  },
  {
   "cell_type": "code",
   "execution_count": 191,
   "id": "7cce58cf",
   "metadata": {},
   "outputs": [],
   "source": [
    "coefficients = las.coef_"
   ]
  },
  {
   "cell_type": "code",
   "execution_count": 192,
   "id": "3ddcb197",
   "metadata": {},
   "outputs": [
    {
     "data": {
      "image/png": "[encoded data removed]",
      "text/plain": [
       "<Figure size 1200x600 with 1 Axes>"
      ]
     },
     "metadata": {},
     "output_type": "display_data"
    }
   ],
   "source": [
    "plt.figure(figsize=(12, 6))\n",
    "plt.bar(range(len(coefficients)), coefficients)\n",
    "plt.xlabel('Features')\n",
    "plt.ylabel('Coefficients')\n",
    "plt.axhline(0, color=\"red\")\n",
    "plt.title('Lasso Coefficients')\n",
    "plt.xticks(range(len(coefficients)), X.columns)\n",
    "plt.show()"
   ]
  },
  {
   "cell_type": "markdown",
   "id": "936e409b",
   "metadata": {},
   "source": [
    "Initially, setting alpha to 0.5 resulted in a model with a strong regularization effect, causing many coefficients to shrink to zero. This led to a simplified model that might be too restrictive to capture the complexity of the data, as reflected in a plot where all coefficients were reduced to nil. Such a model might not adequately represent the relationships within the dataset.\n",
    "\n",
    "Realizing this, the alpha value was adjusted to 0.05, reducing the regularization strength. This adjustment was made not only to verify the code's correctness but also to produce a more nuanced model. The aim was to achieve a balance that allows the model to retain more information and provide a more detailed analysis, thus more accurately reflecting the intricacies in the dataset."
   ]
  },
  {
   "cell_type": "code",
   "execution_count": 184,
   "id": "40d992d1",
   "metadata": {},
   "outputs": [],
   "source": [
    "lasso = Lasso(alpha=0.05)"
   ]
  },
  {
   "cell_type": "code",
   "execution_count": 185,
   "id": "9dfa07f8",
   "metadata": {},
   "outputs": [],
   "source": [
    "las = lasso.fit(X_scaled, y)"
   ]
  },
  {
   "cell_type": "code",
   "execution_count": 186,
   "id": "99262abc",
   "metadata": {},
   "outputs": [],
   "source": [
    "coefficients = las.coef_"
   ]
  },
  {
   "cell_type": "code",
   "execution_count": 187,
   "id": "549a7a4c",
   "metadata": {},
   "outputs": [
    {
     "data": {
      "image/png": "[encoded data removed]",
      "text/plain": [
       "<Figure size 1200x600 with 1 Axes>"
      ]
     },
     "metadata": {},
     "output_type": "display_data"
    }
   ],
   "source": [
    "plt.figure(figsize=(12, 6))\n",
    "plt.bar(range(len(coefficients)), coefficients)\n",
    "plt.xlabel('Features')\n",
    "plt.ylabel('Coefficients')\n",
    "plt.axhline(0, color=\"red\")\n",
    "plt.title('Lasso Coefficients')\n",
    "plt.xticks(range(len(coefficients)), X.columns)\n",
    "plt.show()"
   ]
  },
  {
   "cell_type": "markdown",
   "id": "96278b34",
   "metadata": {},
   "source": [
    "# 5.) Do these coefficient magnitudes make sense?"
   ]
  },
  {
   "cell_type": "markdown",
   "id": "ad56dae3",
   "metadata": {},
   "source": [
    "The bar chart shows that the coefficients of a regression model where the independent variables are \"September\", 'Release', 'Apple Watch', 'Apple', 'MacBook Air', 'Airpods', 'Westfield', 'May', and'Ivor'. The dependent variable is \"BasicEPS\".  "
   ]
  },
  {
   "cell_type": "markdown",
   "id": "a0164aef",
   "metadata": {},
   "source": [
    "The terms  'Apple Watch','Release','Apple', 'MacBook Air','Airpods', Features show positive coefficients. \n",
    "\n",
    "'Release': Positive coefficient; indicates a strong correlation between searches for new Apple product releases and an increase in Apple's earnings, likely due to consumer purchases following these events.\n",
    "\n",
    "'Apple Watch': Has a positive coefficient, suggesting that searches for the Apple Watch are positively correlated with Apple's earnings, likely because interest in this product can lead to direct sales.\n",
    "\n",
    "'Apple': Positive coefficient; general searches for Apple could indicate overall market interest in the company's products, which correlates with increased earnings.\n",
    "\n",
    "'MacBook Air': Positive coefficient; indicates that consumer interest in the MacBook Air, as reflected by search volume, is positively associated with Apple's earnings.\n",
    "\n",
    "'Airpods': This term has a positive coefficient, indicating a positive correlation with earnings, which makes sense as AirPods are a popular product and searches could indicate buying intent.\n",
    "\n"
   ]
  },
  {
   "cell_type": "markdown",
   "id": "259749c4",
   "metadata": {},
   "source": [
    "'September': Shows a negative coefficient, which could imply that searches for Apple in September negatively correlate with Apple's earnings, possibly because consumers might be waiting for announcements of new products before making purchases."
   ]
  },
  {
   "cell_type": "markdown",
   "id": "4f77cc52",
   "metadata": {},
   "source": [
    "The terms 'Westfield', 'May', and 'Ivor' seem unrelated to Apple's earnings, which is consistent with their zero coefficients. 'Westfield' refer to a shopping center, 'May' is a month that doesn't align with Apple's typical release schedule, and 'Ivor' does not seem to have any clear connection to Apple or its product offerings.\n",
    "\n"
   ]
  },
  {
   "cell_type": "markdown",
   "id": "8d9bcc38",
   "metadata": {},
   "source": [
    "In summary, the non-zero coefficients on search terms that are directly related to Apple's product releases and peak interest periods seem logical. The zero coefficients on less relevant terms also make sense as they would be expected to have little or no predictive power on Apple's earnings."
   ]
  }
 ],
 "metadata": {
  "kernelspec": {
   "display_name": "Python 3 (ipykernel)",
   "language": "python",
   "name": "python3"
  },
  "language_info": {
   "codemirror_mode": {
    "name": "ipython",
    "version": 3
   },
   "file_extension": ".py",
   "mimetype": "text/x-python",
   "name": "python",
   "nbconvert_exporter": "python",
   "pygments_lexer": "ipython3",
   "version": "3.11.5"
  }
 },
 "nbformat": 4,
 "nbformat_minor": 5
}
